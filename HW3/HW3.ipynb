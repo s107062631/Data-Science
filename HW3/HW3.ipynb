{
 "cells": [
  {
   "cell_type": "code",
   "execution_count": 1,
   "metadata": {},
   "outputs": [],
   "source": [
    "'''\n",
    "Import necessary library\n",
    "'''\n",
    "\n",
    "import pandas as pd\n",
    "from sklearn.preprocessing import OneHotEncoder,LabelEncoder\n",
    "import numpy as np\n",
    "from sklearn.ensemble import RandomForestClassifier\n",
    "from sklearn.preprocessing import StandardScaler\n",
    "from imblearn.over_sampling import RandomOverSampler\n",
    "from imblearn.under_sampling import RandomUnderSampler"
   ]
  },
  {
   "cell_type": "code",
   "execution_count": 2,
   "metadata": {},
   "outputs": [
    {
     "name": "stdout",
     "output_type": "stream",
     "text": [
      "(47438, 25545)\n"
     ]
    }
   ],
   "source": [
    "'''\n",
    "Read input data\n",
    "'''\n",
    "train_data = pd.read_csv('training_data.csv',header=None)\n",
    "test_data = pd.read_csv('testing_data.csv',header=None)\n",
    "train_size = len(train_data)\n",
    "test_size = len(test_data)\n",
    "print(train_size,test_size)"
   ]
  },
  {
   "cell_type": "code",
   "execution_count": 3,
   "metadata": {},
   "outputs": [],
   "source": [
    "'''\n",
    "Deal with input data\n",
    "'''\n",
    "test_index = test_data.loc[:,0]\n",
    "test_data = test_data.drop(0,axis = 1)\n",
    "def test_rename(x):\n",
    "    return x+1\n",
    "test_data = test_data.rename(mapper=test_rename,axis=1)\n",
    "train_label = train_data.iloc[:,1]\n",
    "train_data_d = train_data.drop(labels=[0,1],axis=1)"
   ]
  },
  {
   "cell_type": "code",
   "execution_count": 4,
   "metadata": {},
   "outputs": [],
   "source": [
    "concated_df = pd.concat((train_data_d,test_data))"
   ]
  },
  {
   "cell_type": "code",
   "execution_count": 5,
   "metadata": {},
   "outputs": [],
   "source": [
    "cat_feature = [2,5,6,7,8,9,10,11,13,14,15,24,25,27]\n",
    "num_feature = [3,4,12,16,17,18,19,20,21,22,23,26,28]"
   ]
  },
  {
   "cell_type": "code",
   "execution_count": 6,
   "metadata": {},
   "outputs": [],
   "source": [
    "'''\n",
    "Deal with missing value\n",
    "Fill category feature with mode, numeric feature with mean\n",
    "'''\n",
    "for col in cat_feature:\n",
    "    concated_df[col] = concated_df[col].fillna(concated_df[col].mode()[0])\n",
    "for col in num_feature:\n",
    "    concated_df[col] = concated_df[col].fillna(concated_df[col].mean())\n",
    "concated_df = pd.get_dummies(concated_df,columns=cat_feature)"
   ]
  },
  {
   "cell_type": "code",
   "execution_count": 7,
   "metadata": {},
   "outputs": [
    {
     "name": "stdout",
     "output_type": "stream",
     "text": [
      "(47438, 25545)\n"
     ]
    }
   ],
   "source": [
    "train_data_d = concated_df.iloc[:train_size,:]\n",
    "test_data = concated_df.iloc[train_size: , : ]\n",
    "print(len(train_data_d),len(test_data) )"
   ]
  },
  {
   "cell_type": "code",
   "execution_count": 8,
   "metadata": {},
   "outputs": [],
   "source": [
    "'''\n",
    "Train/test dataframe into numpy array\n",
    "'''\n",
    "X = train_data_d.values\n",
    "y = train_label.values\n",
    "X_test = test_data.values"
   ]
  },
  {
   "cell_type": "code",
   "execution_count": 9,
   "metadata": {},
   "outputs": [],
   "source": [
    "'''\n",
    "Standardlize numeric feature\n",
    "'''\n",
    "std = StandardScaler()\n",
    "std.fit(X[:,:14])\n",
    "X[:,:14] = std.transform( X[:,:14] )\n",
    "X_test[:,:14] = std.transform(X_test[:,:14])"
   ]
  },
  {
   "cell_type": "code",
   "execution_count": 10,
   "metadata": {},
   "outputs": [],
   "source": [
    "from sklearn.decomposition import PCA \n",
    "pca=PCA(n_components=23)\n",
    "pca.fit(X)\n",
    "newData=pca.transform(X)\n",
    "newtestData=pca.transform(X_test)"
   ]
  },
  {
   "cell_type": "code",
   "execution_count": 11,
   "metadata": {},
   "outputs": [],
   "source": [
    "rus = RandomUnderSampler(random_state = 0)\n",
    "newData, y = rus.fit_sample(newData, y)"
   ]
  },
  {
   "cell_type": "code",
   "execution_count": 12,
   "metadata": {},
   "outputs": [],
   "source": [
    "from sklearn.model_selection import cross_val_score"
   ]
  },
  {
   "cell_type": "code",
   "execution_count": 13,
   "metadata": {},
   "outputs": [],
   "source": [
    "from sklearn.neighbors import KNeighborsClassifier\n",
    "\n",
    "knn = KNeighborsClassifier(n_neighbors=23)\n",
    "knn.fit(newData, y)\n",
    "cross_val_score(knn, newData, y, cv=5)\n",
    "'''\n",
    "Make prediction\n",
    "'''\n",
    "pred = knn.predict(newtestData)"
   ]
  },
  {
   "cell_type": "code",
   "execution_count": 14,
   "metadata": {},
   "outputs": [],
   "source": [
    "'''\n",
    "Output prediction\n",
    "'''\n",
    "with open('super_easy_baseline.csv','w') as f:\n",
    "    f.write('Id,Prediction\\n')\n",
    "    for idx , p in zip(test_index , pred):\n",
    "        f.write('{},{}\\n'.format(idx,p))"
   ]
  },
  {
   "cell_type": "code",
   "execution_count": null,
   "metadata": {},
   "outputs": [],
   "source": []
  }
 ],
 "metadata": {
  "kernelspec": {
   "display_name": "Python 3",
   "language": "python",
   "name": "python3"
  },
  "language_info": {
   "codemirror_mode": {
    "name": "ipython",
    "version": 2
   },
   "file_extension": ".py",
   "mimetype": "text/x-python",
   "name": "python",
   "nbconvert_exporter": "python",
   "pygments_lexer": "ipython2",
   "version": "2.7.15rc1"
  }
 },
 "nbformat": 4,
 "nbformat_minor": 2
}

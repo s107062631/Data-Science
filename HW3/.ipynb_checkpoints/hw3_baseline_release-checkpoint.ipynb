{
 "cells": [
  {
   "cell_type": "code",
   "execution_count": 1,
   "metadata": {},
   "outputs": [],
   "source": [
    "'''\n",
    "Import necessary library\n",
    "'''\n",
    "\n",
    "import pandas as pd\n",
    "from sklearn.preprocessing import OneHotEncoder,LabelEncoder\n",
    "import numpy as np\n",
    "from sklearn.ensemble import RandomForestClassifier\n",
    "from sklearn.preprocessing import StandardScaler\n",
    "from imblearn.over_sampling import RandomOverSampler\n",
    "from imblearn.under_sampling import RandomUnderSampler"
   ]
  },
  {
   "cell_type": "code",
   "execution_count": 2,
   "metadata": {
    "scrolled": false
   },
   "outputs": [
    {
     "data": {
      "text/html": [
       "<div>\n",
       "<style scoped>\n",
       "    .dataframe tbody tr th:only-of-type {\n",
       "        vertical-align: middle;\n",
       "    }\n",
       "\n",
       "    .dataframe tbody tr th {\n",
       "        vertical-align: top;\n",
       "    }\n",
       "\n",
       "    .dataframe thead th {\n",
       "        text-align: right;\n",
       "    }\n",
       "</style>\n",
       "<table border=\"1\" class=\"dataframe\">\n",
       "  <thead>\n",
       "    <tr style=\"text-align: right;\">\n",
       "      <th></th>\n",
       "      <th>0</th>\n",
       "      <th>1</th>\n",
       "      <th>2</th>\n",
       "      <th>3</th>\n",
       "      <th>4</th>\n",
       "      <th>5</th>\n",
       "      <th>6</th>\n",
       "      <th>7</th>\n",
       "      <th>8</th>\n",
       "      <th>9</th>\n",
       "      <th>...</th>\n",
       "      <th>19</th>\n",
       "      <th>20</th>\n",
       "      <th>21</th>\n",
       "      <th>22</th>\n",
       "      <th>23</th>\n",
       "      <th>24</th>\n",
       "      <th>25</th>\n",
       "      <th>26</th>\n",
       "      <th>27</th>\n",
       "      <th>28</th>\n",
       "    </tr>\n",
       "  </thead>\n",
       "  <tbody>\n",
       "    <tr>\n",
       "      <th>0</th>\n",
       "      <td>0</td>\n",
       "      <td>0</td>\n",
       "      <td>A_0</td>\n",
       "      <td>6</td>\n",
       "      <td>3.306</td>\n",
       "      <td>B_17</td>\n",
       "      <td>C_586</td>\n",
       "      <td>D_133</td>\n",
       "      <td>E_221</td>\n",
       "      <td>F_1</td>\n",
       "      <td>...</td>\n",
       "      <td>8414.960175</td>\n",
       "      <td>3861.225045</td>\n",
       "      <td>7500.455812</td>\n",
       "      <td>12133.627611</td>\n",
       "      <td>12881.521468</td>\n",
       "      <td>N_47</td>\n",
       "      <td>L_5</td>\n",
       "      <td>8578.597228</td>\n",
       "      <td>M_0</td>\n",
       "      <td>803.592435</td>\n",
       "    </tr>\n",
       "    <tr>\n",
       "      <th>1</th>\n",
       "      <td>1</td>\n",
       "      <td>0</td>\n",
       "      <td>A_0</td>\n",
       "      <td>4</td>\n",
       "      <td>5.330</td>\n",
       "      <td>B_5</td>\n",
       "      <td>C_0</td>\n",
       "      <td>D_94</td>\n",
       "      <td>E_766</td>\n",
       "      <td>F_1</td>\n",
       "      <td>...</td>\n",
       "      <td>7782.516421</td>\n",
       "      <td>3863.753716</td>\n",
       "      <td>8095.359390</td>\n",
       "      <td>11900.212593</td>\n",
       "      <td>13278.560166</td>\n",
       "      <td>N_47</td>\n",
       "      <td>L_5</td>\n",
       "      <td>9188.639286</td>\n",
       "      <td>M_0</td>\n",
       "      <td>757.361037</td>\n",
       "    </tr>\n",
       "  </tbody>\n",
       "</table>\n",
       "<p>2 rows × 29 columns</p>\n",
       "</div>"
      ],
      "text/plain": [
       "   0   1    2   3      4     5      6      7      8    9   ...           19  \\\n",
       "0   0   0  A_0   6  3.306  B_17  C_586  D_133  E_221  F_1  ...  8414.960175   \n",
       "1   1   0  A_0   4  5.330   B_5    C_0   D_94  E_766  F_1  ...  7782.516421   \n",
       "\n",
       "            20           21            22            23    24   25  \\\n",
       "0  3861.225045  7500.455812  12133.627611  12881.521468  N_47  L_5   \n",
       "1  3863.753716  8095.359390  11900.212593  13278.560166  N_47  L_5   \n",
       "\n",
       "            26   27          28  \n",
       "0  8578.597228  M_0  803.592435  \n",
       "1  9188.639286  M_0  757.361037  \n",
       "\n",
       "[2 rows x 29 columns]"
      ]
     },
     "metadata": {},
     "output_type": "display_data"
    }
   ],
   "source": [
    "'''\n",
    "Read input data\n",
    "'''\n",
    "train_data = pd.read_csv('training_data.csv',header=None)\n",
    "test_data = pd.read_csv('testing_data.csv',header=None)\n",
    "train_size = len(train_data)\n",
    "test_size = len(test_data)\n",
    "display(train_data.head(2))"
   ]
  },
  {
   "cell_type": "code",
   "execution_count": 3,
   "metadata": {},
   "outputs": [],
   "source": [
    "'''\n",
    "Deal with input data\n",
    "'''\n",
    "test_index = test_data.loc[:,0]\n",
    "test_data = test_data.drop(0,axis = 1)\n",
    "def test_rename(x):\n",
    "    return x+1\n",
    "test_data = test_data.rename(mapper=test_rename,axis=1)\n",
    "train_label = train_data.iloc[:,1]\n",
    "train_data_d = train_data.drop(labels=[0,1],axis=1)"
   ]
  },
  {
   "cell_type": "code",
   "execution_count": 4,
   "metadata": {},
   "outputs": [],
   "source": [
    "concated_df = pd.concat((train_data_d,test_data))"
   ]
  },
  {
   "cell_type": "code",
   "execution_count": 5,
   "metadata": {},
   "outputs": [],
   "source": [
    "cat_feature = [2,5,6,7,8,9,10,11,13,14,15,24,25,27]\n",
    "num_feature = [3,4,12,16,17,18,19,20,21,22,23,26,28]"
   ]
  },
  {
   "cell_type": "code",
   "execution_count": 6,
   "metadata": {},
   "outputs": [],
   "source": [
    "'''\n",
    "Deal with missing value\n",
    "Fill category feature with mode, numeric feature with mean\n",
    "'''\n",
    "for col in cat_feature:\n",
    "    concated_df[col] = concated_df[col].fillna(concated_df[col].mode()[0])\n",
    "for col in num_feature:\n",
    "    concated_df[col] = concated_df[col].fillna(concated_df[col].mean())\n",
    "concated_df = pd.get_dummies(concated_df,columns=cat_feature)"
   ]
  },
  {
   "cell_type": "code",
   "execution_count": 7,
   "metadata": {},
   "outputs": [
    {
     "name": "stdout",
     "output_type": "stream",
     "text": [
      "(47438, 25545)\n"
     ]
    }
   ],
   "source": [
    "train_data_d = concated_df.iloc[:train_size,:]\n",
    "test_data = concated_df.iloc[train_size: , : ]\n",
    "print(len(train_data_d),len(test_data) )"
   ]
  },
  {
   "cell_type": "code",
   "execution_count": 8,
   "metadata": {},
   "outputs": [],
   "source": [
    "'''\n",
    "Train/test dataframe into numpy array\n",
    "'''\n",
    "X = train_data_d.values\n",
    "y = train_label.values\n",
    "X_test = test_data.values"
   ]
  },
  {
   "cell_type": "code",
   "execution_count": 9,
   "metadata": {},
   "outputs": [],
   "source": [
    "# '''\n",
    "# Standardlize numeric feature\n",
    "# '''\n",
    "# std = StandardScaler()\n",
    "# std.fit(X[:,:14])\n",
    "# X = std.transform(X[:,:14])\n",
    "# X_test = std.transform(X_test[:,:14])"
   ]
  },
  {
   "cell_type": "code",
   "execution_count": 10,
   "metadata": {},
   "outputs": [],
   "source": [
    "from sklearn.decomposition import PCA \n",
    "pca=PCA(n_components=5)\n",
    "pca.fit(X[:,:14])\n",
    "newData=pca.transform(X[:,:14])\n",
    "newtestData=pca.transform(X_test[:,:14])"
   ]
  },
  {
   "cell_type": "code",
   "execution_count": 12,
   "metadata": {
    "scrolled": true
   },
   "outputs": [
    {
     "name": "stdout",
     "output_type": "stream",
     "text": [
      "[1-NN]\n",
      "Validation accuracy: 0.794 [0.79253794 0.79580909]\n",
      "[2-NN]\n",
      "Validation accuracy: 0.864 [0.86391231 0.86470191]\n",
      "[3-NN]\n",
      "Validation accuracy: 0.845 [0.84540472 0.84543385]\n",
      "[4-NN]\n",
      "Validation accuracy: 0.870 [0.86973019 0.87026731]\n",
      "[5-NN]\n",
      "Validation accuracy: 0.862 [0.86146712 0.86288895]\n",
      "[6-NN]\n",
      "Validation accuracy: 0.873 [0.8722597  0.87359811]\n",
      "[7-NN]\n",
      "Validation accuracy: 0.869 [0.86736931 0.87073109]\n",
      "[1-NN]\n",
      "Validation accuracy: 0.796 [0.79492043 0.78773187 0.79687994 0.80531253 0.79550964]\n",
      "[2-NN]\n",
      "Validation accuracy: 0.865 [0.86573928 0.86309022 0.86550016 0.86665964 0.86528934]\n",
      "[3-NN]\n",
      "Validation accuracy: 0.844 [0.84539994 0.83937605 0.84705386 0.8489512  0.84136186]\n",
      "[4-NN]\n",
      "Validation accuracy: 0.870 [0.87121931 0.86730607 0.86961105 0.87129757 0.87108675]\n",
      "[5-NN]\n",
      "Validation accuracy: 0.862 [0.86215618 0.85708263 0.8632866  0.86687045 0.86254875]\n",
      "[6-NN]\n",
      "Validation accuracy: 0.873 [0.87385394 0.87067875 0.87330031 0.87351112 0.87351112]\n",
      "[7-NN]\n",
      "Validation accuracy: 0.869 [0.87027084 0.86477656 0.86950564 0.87119216 0.86971645]\n",
      "[1-NN]\n",
      "Validation accuracy: 0.795 [0.79894626 0.79468803 0.78646712 0.78456998 0.79658516 0.79447723\n",
      " 0.78709949 0.81952351 0.78515707 0.79907232]\n",
      "[2-NN]\n",
      "Validation accuracy: 0.865 [0.86575342 0.86572513 0.86129848 0.86424958 0.8636172  0.86783305\n",
      " 0.86277403 0.86991356 0.86169091 0.86654016]\n",
      "[3-NN]\n",
      "Validation accuracy: 0.845 [0.84425711 0.84717538 0.84127319 0.84000843 0.846543   0.84548904\n",
      " 0.83937605 0.85726334 0.84018554 0.84629981]\n",
      "[4-NN]\n",
      "Validation accuracy: 0.870 [0.8691254  0.87268128 0.86762226 0.86994098 0.8720489  0.86867622\n",
      " 0.86846543 0.87286528 0.86738351 0.87370862]\n",
      "[5-NN]\n",
      "Validation accuracy: 0.863 [0.86048472 0.86509275 0.85940135 0.85919056 0.8663575  0.86277403\n",
      " 0.86003373 0.8684377  0.85916087 0.86464263]\n",
      "[6-NN]\n",
      "Validation accuracy: 0.873 [0.87334036 0.87394604 0.87310287 0.87162732 0.87521079 0.87162732\n",
      " 0.87183811 0.87497365 0.87160025 0.8741303 ]\n",
      "[7-NN]\n",
      "Validation accuracy: 0.869 [0.87017914 0.87057336 0.86741147 0.86424958 0.87183811 0.86804384\n",
      " 0.86593592 0.87223276 0.86759435 0.87033523]\n",
      "[1-NN]\n",
      "Validation accuracy: 0.792 [0.79418274 0.79987354 0.79449889 0.78785963 0.78564654 0.78849194\n",
      " 0.800822   0.78627885 0.79386658 0.78027189 0.80018969 0.7944339\n",
      " 0.78551091 0.79405252 0.79816514]\n",
      "[2-NN]\n",
      "Validation accuracy: 0.864 [0.86405311 0.86563389 0.86563389 0.85994309 0.8605754  0.86247234\n",
      " 0.86436927 0.86278849 0.8662662  0.86405311 0.86500158 0.8598988\n",
      " 0.86238532 0.86428345 0.8668143 ]\n",
      "[3-NN]\n",
      "Validation accuracy: 0.843 [0.84729687 0.84287069 0.84950996 0.83876067 0.84002529 0.843503\n",
      " 0.84950996 0.83876067 0.84192223 0.83876067 0.84413531 0.84376977\n",
      " 0.83770959 0.84498576 0.84435305]\n",
      "[4-NN]\n",
      "Validation accuracy: 0.870 [0.87006007 0.86784698 0.87417009 0.8691116  0.8691116  0.87037623\n",
      " 0.87258931 0.87006007 0.86595005 0.86689851 0.87322163 0.8684377\n",
      " 0.86649794 0.86902879 0.8725087 ]\n",
      "[5-NN]\n",
      "Validation accuracy: 0.861 [0.85867847 0.85804616 0.86784698 0.85899463 0.85804616 0.8605754\n",
      " 0.8691116  0.86215618 0.8605754  0.85773    0.86436927 0.86211259\n",
      " 0.85637457 0.86080354 0.8639671 ]\n",
      "[6-NN]\n",
      "Validation accuracy: 0.873 [0.87385394 0.87006007 0.87575087 0.87385394 0.86974391 0.87385394\n",
      " 0.87511856 0.87322163 0.87322163 0.87006007 0.87417009 0.871284\n",
      " 0.87061057 0.87219234 0.87377412]\n",
      "[7-NN]\n",
      "Validation accuracy: 0.868 [0.87069238 0.86468543 0.87543471 0.86847929 0.86531774 0.8662662\n",
      " 0.87132469 0.86879545 0.86784698 0.86184003 0.87132469 0.86907021\n",
      " 0.86586523 0.87061057 0.86776337]\n"
     ]
    }
   ],
   "source": [
    "# from sklearn.neighbors import KNeighborsClassifier\n",
    "# from sklearn.model_selection import cross_val_score\n",
    "\n",
    "# best_k, best_score = -1, -1\n",
    "# clfs = {}\n",
    "# for j in [2, 5 ,10, 15]: # experiment different hyperparameter\n",
    "#     for k in range(1,8): # experiment different hyperparameter\n",
    "#         knn = KNeighborsClassifier(n_neighbors=k)\n",
    "#         knn.fit(newData, y)\n",
    "#         # K-Fold CV\n",
    "#         scores = cross_val_score(knn, newData, y, cv=j)\n",
    "#         print('[%d-NN]\\nValidation accuracy: %.3f %s' % (k, scores.mean(), scores))\n",
    "#         if scores.mean() > best_score:\n",
    "#             best_k, best_score = k, scores.mean()\n",
    "#         clfs[k] = knn"
   ]
  },
  {
   "cell_type": "code",
   "execution_count": null,
   "metadata": {},
   "outputs": [],
   "source": [
    "from sklearn.neighbors import KNeighborsClassifier\n",
    "from sklearn.model_selection import cross_val_score\n",
    "\n",
    "best_k, best_score = -1, -1\n",
    "clfs = {}\n",
    "for j in [2, 5 ,10, 15]: # experiment different hyperparameter\n",
    "    for k in [10, 100, 500]: # experiment different hyperparameter\n",
    "        svm_linear = SVC(kernel='linear', C=k, random_state=0)\n",
    "        knn.fit(newData, y)\n",
    "        # K-Fold CV\n",
    "        scores = cross_val_score(knn, newData, y, cv=j)\n",
    "        print('[%d-NN]\\nValidation accuracy: %.3f %s' % (k, scores.mean(), scores))\n",
    "        if scores.mean() > best_score:\n",
    "            best_k, best_score = k, scores.mean()\n",
    "        clfs[k] = knn"
   ]
  },
  {
   "cell_type": "code",
   "execution_count": 13,
   "metadata": {},
   "outputs": [],
   "source": [
    "best_clf = clfs[best_k]\n",
    "best_clf.fit(newData, y)\n",
    "pred = best_clf.predict(newtestData)"
   ]
  },
  {
   "cell_type": "code",
   "execution_count": 14,
   "metadata": {
    "scrolled": true
   },
   "outputs": [],
   "source": [
    "# from sklearn.svm import SVC\n",
    "# '''\n",
    "# Train model\n",
    "# '''\n",
    "# # clf = RandomForestClassifier(n_estimators = 100 , n_jobs = 4,random_state=386)\n",
    "# # clf.fit(newData , y)\n",
    "# svm = SVC(kernel='linear', C=40.0, random_state=0)\n",
    "# svm.fit(newData, y)\n",
    "# pred = svm.predict(newtestData)"
   ]
  },
  {
   "cell_type": "code",
   "execution_count": null,
   "metadata": {},
   "outputs": [],
   "source": [
    "# '''\n",
    "# Train model\n",
    "# '''\n",
    "# clf = RandomForestClassifier(n_estimators = 100 , n_jobs = 4,random_state=386)\n",
    "# clf.fit(X , y)\n",
    "# pred = clf.predict(X_test)\n",
    "# pred = clf.predict(newtestData)"
   ]
  },
  {
   "cell_type": "code",
   "execution_count": 15,
   "metadata": {},
   "outputs": [],
   "source": [
    "'''\n",
    "Output prediction\n",
    "'''\n",
    "with open('super_easy_baseline.csv','w') as f:\n",
    "    f.write('Id,Prediction\\n')\n",
    "    for idx , p in zip(test_index , pred):\n",
    "        f.write('{},{}\\n'.format(idx,p))"
   ]
  },
  {
   "cell_type": "code",
   "execution_count": null,
   "metadata": {},
   "outputs": [],
   "source": []
  }
 ],
 "metadata": {
  "kernelspec": {
   "display_name": "Python 3",
   "language": "python",
   "name": "python3"
  },
  "language_info": {
   "codemirror_mode": {
    "name": "ipython",
    "version": 2
   },
   "file_extension": ".py",
   "mimetype": "text/x-python",
   "name": "python",
   "nbconvert_exporter": "python",
   "pygments_lexer": "ipython2",
   "version": "2.7.15rc1"
  }
 },
 "nbformat": 4,
 "nbformat_minor": 2
}
